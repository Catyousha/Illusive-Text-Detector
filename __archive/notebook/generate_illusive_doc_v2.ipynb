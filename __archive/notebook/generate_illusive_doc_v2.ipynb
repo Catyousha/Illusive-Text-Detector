{
 "cells": [
  {
   "cell_type": "markdown",
   "metadata": {},
   "source": [
    "# Init"
   ]
  },
  {
   "cell_type": "code",
   "execution_count": 347,
   "metadata": {},
   "outputs": [],
   "source": [
    "import fitz\n",
    "import lorem\n",
    "import json\n",
    "import random\n",
    "import re\n",
    "import os\n",
    "\n",
    "fitz.TOOLS.set_small_glyph_heights(True)\n",
    "fitz.TOOLS.set_graphics_min_line_width(True)\n",
    "\n",
    "UNUSUAL_CHARS = [\"-\",\"~\",\"*\"]\n",
    "FONT_TYPE = fitz.Font(ordering=0)\n",
    "FONT_SIZE = 12\n",
    "COLOR_BLACK = (0, 0, 0)\n",
    "COLOR_WHITE = (1, 1, 1)\n",
    "TEST_DOCUMENT_DIR = \"../test-document-v2\""
   ]
  },
  {
   "cell_type": "markdown",
   "metadata": {},
   "source": [
    "# Illusivicate PDF"
   ]
  },
  {
   "cell_type": "code",
   "execution_count": 348,
   "metadata": {},
   "outputs": [],
   "source": [
    "def illusificate_entity(page: fitz.Page, clip: fitz.Rect, tw: fitz.TextWriter, curr_page: int):\n",
    "    # print(clip)\n",
    "\n",
    "    blocks = page.get_text(\"dict\", clip=clip)[\"blocks\"]\n",
    "    span = blocks[0][\"lines\"][0][\"spans\"][0]        \n",
    "    font = fitz.Font(span['font'], ordering=1)\n",
    "    tw.append(span[\"origin\"], span['text'], fontsize=FONT_SIZE, font=font)\n",
    "    page.add_redact_annot(clip)\n",
    "\n",
    "    shape=page.new_shape()\n",
    "    shape.draw_rect(clip)\n",
    "    shape.finish(color=(1,0,1), fill=(1, 1, 0))\n",
    "    shape.commit()\n",
    "\n",
    "    return {\n",
    "        # \"bbox\": span[\"bbox\"],\n",
    "        \"origin\": span[\"origin\"],\n",
    "        \"text\": span[\"text\"],\n",
    "        \"page\": curr_page,\n",
    "    }\n",
    "\n",
    "def illusificate_doc(doc: fitz.Document):\n",
    "    res = []\n",
    "    for curr_page, page in enumerate(doc):\n",
    "        tw = fitz.TextWriter(page.rect, color=COLOR_WHITE)\n",
    "        for char in UNUSUAL_CHARS:\n",
    "            clips = page.search_for(char)            \n",
    "            for clip in clips:\n",
    "                res.append(illusificate_entity(page, clip, tw, curr_page))\n",
    "            \n",
    "        # print(clip)\n",
    "\n",
    "        page.apply_redactions(images=0)\n",
    "        tw.write_text(page)\n",
    "        return res"
   ]
  },
  {
   "cell_type": "code",
   "execution_count": 349,
   "metadata": {},
   "outputs": [],
   "source": [
    "def generate_illusive_document(filename: str, doc_text: str,):\n",
    "\n",
    "    doc = fitz.open()\n",
    "    page = doc.new_page()\n",
    "\n",
    "    page_padding = 72\n",
    "    page_rect = page.rect\n",
    "    writer = fitz.TextWriter(page_rect, color=COLOR_BLACK)\n",
    "\n",
    "    fill_rect = fitz.Rect(\n",
    "        page_padding,\n",
    "        page_padding,\n",
    "        page_rect.width - page_padding,\n",
    "        page_rect.height - page_padding,\n",
    "    )\n",
    "\n",
    "    writer.fill_textbox(\n",
    "        fill_rect,\n",
    "        doc_text,\n",
    "        align=fitz.TEXT_ALIGN_LEFT,\n",
    "        warn=True,\n",
    "        fontsize=FONT_SIZE,\n",
    "        font=FONT_TYPE,\n",
    "    )\n",
    "    writer.write_text(page)\n",
    "    \n",
    "    results = illusificate_doc(doc)\n",
    "    \n",
    "    json_object = json.dumps(results, indent=2)\n",
    "    with open(f\"{filename}.json\", \"w\") as outfile:\n",
    "        outfile.write(json_object)\n",
    "\n",
    "    doc.save(f\"{filename}.pdf\")"
   ]
  },
  {
   "cell_type": "markdown",
   "metadata": {},
   "source": [
    "# Random Text Generation"
   ]
  },
  {
   "cell_type": "code",
   "execution_count": 350,
   "metadata": {},
   "outputs": [],
   "source": [
    "def generate_document_text(num_paragraph: int = 4):\n",
    "    doc_text = [lorem.paragraph() for i in range(0, num_paragraph)]\n",
    "    return '\\n\\n'.join(doc_text)"
   ]
  },
  {
   "cell_type": "markdown",
   "metadata": {},
   "source": [
    "# Generate Illusive Document"
   ]
  },
  {
   "cell_type": "code",
   "execution_count": 351,
   "metadata": {},
   "outputs": [],
   "source": [
    "def random_unusual_char(match):\n",
    "    return random.choice(UNUSUAL_CHARS)\n",
    "\n",
    "def generate_illusive_docs(doc_amount: int):\n",
    "    assert(doc_amount >= 1)\n",
    "    dir_name = f\"{TEST_DOCUMENT_DIR}/spaces\"\n",
    "    os.makedirs(dir_name, exist_ok=True)\n",
    "    for i in range(1, doc_amount + 1):\n",
    "        doc_text = generate_document_text()\n",
    "        doc_text = re.sub(r\"[ \\t]\", random_unusual_char, doc_text)\n",
    "        generate_illusive_document(f\"{dir_name}/TEST{i}\", doc_text)"
   ]
  },
  {
   "cell_type": "markdown",
   "metadata": {},
   "source": [
    "# Main Process"
   ]
  },
  {
   "cell_type": "code",
   "execution_count": 352,
   "metadata": {},
   "outputs": [],
   "source": [
    "generate_illusive_docs(10)"
   ]
  }
 ],
 "metadata": {
  "kernelspec": {
   "display_name": "Python 3.9.13 ('Skripsheeesh')",
   "language": "python",
   "name": "python3"
  },
  "language_info": {
   "codemirror_mode": {
    "name": "ipython",
    "version": 3
   },
   "file_extension": ".py",
   "mimetype": "text/x-python",
   "name": "python",
   "nbconvert_exporter": "python",
   "pygments_lexer": "ipython3",
   "version": "3.9.13"
  },
  "orig_nbformat": 4,
  "vscode": {
   "interpreter": {
    "hash": "db99fcdcf4d350b0a85f79c11f3a9bfb2e0477ec6fa570ac1c31c25bd440e3bb"
   }
  }
 },
 "nbformat": 4,
 "nbformat_minor": 2
}
