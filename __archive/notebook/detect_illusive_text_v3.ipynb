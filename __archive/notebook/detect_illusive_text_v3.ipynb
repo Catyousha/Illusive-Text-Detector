{
 "cells": [
  {
   "cell_type": "markdown",
   "metadata": {},
   "source": [
    "# Init"
   ]
  },
  {
   "cell_type": "code",
   "execution_count": 29,
   "metadata": {},
   "outputs": [],
   "source": [
    "import fitz\n",
    "import json\n",
    "import os\n",
    "import re\n",
    "\n",
    "from functools import reduce\n",
    "\n",
    "fitz.TOOLS.set_small_glyph_heights(True)\n",
    "COLOR_WHITE = 16777215\n",
    "TEST_DIR = \"./doc\""
   ]
  },
  {
   "cell_type": "code",
   "execution_count": 30,
   "metadata": {},
   "outputs": [],
   "source": [
    "def detect_chars(text_blocks, curr_page):\n",
    "    lines = [b['lines'] for b in text_blocks]\n",
    "    lines = reduce(lambda a,b: a+b, lines)\n",
    "    spans = [l['spans'] for l in lines]\n",
    "    spans = reduce(lambda a,b: a+b, spans)\n",
    "    detected_chars = []\n",
    "    for span in spans:\n",
    "        chars = span[\"chars\"]\n",
    "        for char in chars:\n",
    "            text = char[\"c\"]\n",
    "            if(text == \" \"):\n",
    "                continue\n",
    "            origin = char[\"origin\"]\n",
    "            label = \"ILLUSIVE\" if (span[\"color\"] == COLOR_WHITE) else \"NON-ILLUSIVE\"\n",
    "            \n",
    "            detected_chars.append({\n",
    "                \"page\": curr_page,\n",
    "                \"origin\": list((round(origin[0], 0), round(origin[1], 0))),\n",
    "                \"text\": text,\n",
    "                \"label\": label,\n",
    "            })\n",
    "        \n",
    "    return detected_chars"
   ]
  },
  {
   "cell_type": "code",
   "execution_count": 31,
   "metadata": {},
   "outputs": [],
   "source": [
    "def predict_illusive_text(doc: fitz.Document):\n",
    "    predict = []\n",
    "    for curr_page, page in enumerate(doc):\n",
    "        text_page = page.get_textpage()\n",
    "        blocks = text_page.extractRAWDICT()[\"blocks\"]\n",
    "        detected_chars = detect_chars(blocks, curr_page)\n",
    "        predict += detected_chars\n",
    "    return predict\n"
   ]
  },
  {
   "cell_type": "code",
   "execution_count": 32,
   "metadata": {},
   "outputs": [],
   "source": [
    "def generate_test_schema():\n",
    "    \"\"\"\n",
    "    [\n",
    "        {\n",
    "            'document': 'TEST1.pdf',\n",
    "            'actual': 'TEST1.json'\n",
    "        }\n",
    "    ]\n",
    "    \"\"\"\n",
    "    test_schema = []\n",
    "    for root, dirs, files in os.walk(TEST_DIR):\n",
    "\n",
    "        document_files = [f for f in files if f.endswith('.pdf')]\n",
    "        actual_files = [f for f in files if f.endswith('.json')]\n",
    "        assert(len(document_files) == len(actual_files))\n",
    "\n",
    "        test_schema = [\n",
    "            {\n",
    "                \"document\": document_files[i],\n",
    "                \"actual\": actual_files[i]\n",
    "            } for i in range(0, len(document_files))\n",
    "        ]\n",
    "    return test_schema"
   ]
  },
  {
   "cell_type": "code",
   "execution_count": 33,
   "metadata": {},
   "outputs": [
    {
     "data": {
      "text/plain": [
       "[{'document': 'TEST1.pdf', 'actual': 'TEST1.json'},\n",
       " {'document': 'TEST2.pdf', 'actual': 'TEST2.json'},\n",
       " {'document': 'TEST3.pdf', 'actual': 'TEST3.json'}]"
      ]
     },
     "execution_count": 33,
     "metadata": {},
     "output_type": "execute_result"
    }
   ],
   "source": [
    "a = generate_test_schema()\n",
    "a"
   ]
  },
  {
   "cell_type": "code",
   "execution_count": 34,
   "metadata": {},
   "outputs": [],
   "source": [
    "def dump_predicted(filename, doc, predicted):\n",
    "    json_object = json.dumps(predicted, indent=2)\n",
    "    with open(f\"test_dumps/{filename}\", \"w\") as outfile:\n",
    "        outfile.write(json_object)\n",
    "    \n",
    "    # for page in doc:\n",
    "    #     for pr in predicted:\n",
    "    #         shape=page.new_shape()\n",
    "    #         shape.draw_rect(pr[\"bbox\"])\n",
    "    #         shape.finish(color=(1,0,1), fill=(1, 0, 0))\n",
    "    #         shape.commit()\n",
    "    # doc.save(f\"test_dumps/{filename}.pdf\")"
   ]
  },
  {
   "cell_type": "code",
   "execution_count": 42,
   "metadata": {},
   "outputs": [
    {
     "name": "stdout",
     "output_type": "stream",
     "text": [
      "{'document': 'TEST1.pdf', 'actual': 'TEST1.json'}\n",
      "{'document': 'TEST2.pdf', 'actual': 'TEST2.json'}\n",
      "{'document': 'TEST3.pdf', 'actual': 'TEST3.json'}\n"
     ]
    }
   ],
   "source": [
    "import math\n",
    "\n",
    "\n",
    "def comparator(a, b):\n",
    "    cond1 = math.isclose(a[\"origin\"][0], b[\"origin\"][0], abs_tol=2)\n",
    "    cond2 = math.isclose(a[\"origin\"][1], b[\"origin\"][1], abs_tol=2)\n",
    "    cond3 = a[\"text\"] == b[\"text\"]\n",
    "    cond4 = a[\"label\"] == b[\"label\"]\n",
    "        \n",
    "    return cond1 and cond2 and cond3 and cond4\n",
    "\n",
    "test_schema = generate_test_schema()\n",
    "for schema in test_schema:\n",
    "    print(schema)\n",
    "    doc = fitz.open(f\"{TEST_DIR}\\{schema['document']}\")\n",
    "    actual = json.load(open(f\"{TEST_DIR}\\{schema['actual']}\"))\n",
    "    predicted = predict_illusive_text(doc)\n",
    "    predicted.sort(key=lambda p: (p[\"origin\"][1], p[\"origin\"][0]))\n",
    "    \n",
    "    for i in range(actual.__len__()):\n",
    "        assert(comparator(actual[i], predicted[i]))\n",
    "    dump_predicted(schema[\"actual\"], doc, predicted)\n",
    "    # if(not(equal)):\n",
    "    #     dump_predicted(idx, doc, predicted)\n",
    "        "
   ]
  },
  {
   "cell_type": "code",
   "execution_count": null,
   "metadata": {},
   "outputs": [],
   "source": []
  }
 ],
 "metadata": {
  "kernelspec": {
   "display_name": "Python 3.9.13 ('Skripsheeesh')",
   "language": "python",
   "name": "python3"
  },
  "language_info": {
   "codemirror_mode": {
    "name": "ipython",
    "version": 3
   },
   "file_extension": ".py",
   "mimetype": "text/x-python",
   "name": "python",
   "nbconvert_exporter": "python",
   "pygments_lexer": "ipython3",
   "version": "3.9.13"
  },
  "orig_nbformat": 4,
  "vscode": {
   "interpreter": {
    "hash": "db99fcdcf4d350b0a85f79c11f3a9bfb2e0477ec6fa570ac1c31c25bd440e3bb"
   }
  }
 },
 "nbformat": 4,
 "nbformat_minor": 2
}
