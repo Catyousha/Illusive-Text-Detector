{
 "cells": [
  {
   "cell_type": "code",
   "execution_count": 108,
   "metadata": {},
   "outputs": [],
   "source": [
    "import fitz\n",
    "import lorem\n",
    "import json\n",
    "import random\n",
    "import re\n",
    "import os\n",
    "\n",
    "fitz.TOOLS.set_small_glyph_heights(True)\n",
    "\n",
    "COLOR_BLACK = (0, 0, 0)\n",
    "FONT_TYPE = fitz.Font(ordering=0)\n",
    "FONT_SIZE = 12"
   ]
  },
  {
   "cell_type": "code",
   "execution_count": 173,
   "metadata": {},
   "outputs": [],
   "source": [
    "def illusificate_entity(page: fitz.Page, clip: fitz.Rect, tw: fitz.TextWriter):\n",
    "    blocks = page.get_text(\"dict\", clip=clip)[\"blocks\"]\n",
    "    span = blocks[0][\"lines\"][0][\"spans\"][0]        \n",
    "    font = fitz.Font(span['font'], ordering=1)\n",
    "    tw.append(span[\"origin\"], span['text'], fontsize=12, font=font)\n",
    "    page.add_redact_annot(clip)\n",
    "    # shape=page.new_shape()\n",
    "    # shape.draw_rect(clip)\n",
    "    # shape.finish(color=(1,0,1), fill=(1, 1, 0))\n",
    "    # shape.commit()\n",
    "    return {\n",
    "        \"bbox\": span[\"bbox\"],\n",
    "        \"text\": span[\"text\"],\n",
    "    }\n",
    "\n",
    "def illusificate_doc(doc: fitz.Document, texts: list[str]):\n",
    "    text_queue_list = []\n",
    "    res = []\n",
    "    for page in doc:\n",
    "        tw = fitz.TextWriter(page.rect, color=(1, 1, 1))\n",
    "        for text in text_queue_list:\n",
    "            rl = page.search_for(text)\n",
    "            if(len(rl) == 0):\n",
    "                continue\n",
    "            clip = rl[0]\n",
    "            res.append(illusificate_entity(clip, page, tw))\n",
    "            text_queue_list.remove(text)\n",
    "            \n",
    "        for text in texts:\n",
    "            rl = page.search_for(text)\n",
    "            if(len(rl) == 0):\n",
    "                text_queue_list.append(text)\n",
    "                continue\n",
    "            clip = rl[0]\n",
    "            res.append(illusificate_entity(page, clip, tw))\n",
    "            \n",
    "        # print(clip)\n",
    "\n",
    "        page.apply_redactions(images=0)\n",
    "        tw.write_text(page)\n",
    "        page.clean_contents()\n",
    "\n",
    "        # print(text_queue_list)\n",
    "        assert(len(text_queue_list) == 0)\n",
    "\n",
    "        return res"
   ]
  },
  {
   "cell_type": "code",
   "execution_count": 152,
   "metadata": {},
   "outputs": [],
   "source": [
    "def generate_illusive_document(filename: str, doc_text: str, illusives: list[str]):\n",
    "\n",
    "    doc = fitz.open()\n",
    "    page = doc.new_page()\n",
    "\n",
    "    page_padding = 72\n",
    "    page_rect = page.rect\n",
    "    writer = fitz.TextWriter(page_rect, color=COLOR_BLACK)\n",
    "\n",
    "    fill_rect = fitz.Rect(\n",
    "        page_padding,\n",
    "        page_padding,\n",
    "        page_rect.width - page_padding,\n",
    "        page_rect.height - page_padding,\n",
    "    )\n",
    "\n",
    "    writer.fill_textbox(\n",
    "        fill_rect,\n",
    "        doc_text,\n",
    "        align=fitz.TEXT_ALIGN_JUSTIFY,\n",
    "        warn=True,\n",
    "        fontsize=FONT_SIZE,\n",
    "        font=FONT_TYPE,\n",
    "    )\n",
    "    writer.write_text(page)\n",
    "    \n",
    "    results = illusificate_doc(doc, illusives)\n",
    "    \n",
    "    json_object = json.dumps(results, indent=2)\n",
    "    with open(f\"{filename}.json\", \"w\") as outfile:\n",
    "        outfile.write(json_object)\n",
    "\n",
    "    doc.save(f\"{filename}.pdf\")"
   ]
  },
  {
   "cell_type": "code",
   "execution_count": 111,
   "metadata": {},
   "outputs": [],
   "source": [
    "def generate_document_text(num_paragraph: int = 7):\n",
    "    doc_text = [lorem.paragraph() for i in range(0, num_paragraph)]\n",
    "    return '\\n\\n'.join(doc_text)"
   ]
  },
  {
   "cell_type": "code",
   "execution_count": 165,
   "metadata": {},
   "outputs": [],
   "source": [
    "def get_random_sentence(doc_text: str, amount: int):\n",
    "    doc_text = re.sub(r\"\\n+\", \" \", doc_text)\n",
    "    sentence_splitter_regex = r\"(?<!\\w\\.\\w.)(?<![A-Z][a-z]\\.)(?<=\\.|\\?)\\s\"\n",
    "    text_set = set(re.split(sentence_splitter_regex, doc_text))\n",
    "    assert(len(text_set) > amount)\n",
    "\n",
    "    random_choice = random.sample(list(text_set), amount)\n",
    "    return random_choice"
   ]
  },
  {
   "cell_type": "code",
   "execution_count": 166,
   "metadata": {},
   "outputs": [],
   "source": [
    "def get_random_words(doc_text: str, amount: int):\n",
    "    doc_text = re.sub(r\"\\n+\", \" \", doc_text)\n",
    "    text_set = set(doc_text.split(' '))\n",
    "    assert(len(text_set) > amount)\n",
    "    \n",
    "    random_choice = random.sample(list(text_set), amount)\n",
    "    return random_choice"
   ]
  },
  {
   "cell_type": "code",
   "execution_count": 167,
   "metadata": {},
   "outputs": [],
   "source": [
    "def get_random_chars(doc_text: str, amount: int):\n",
    "    doc_text = re.sub(r\"\\s|\\n+\", \" \", doc_text)\n",
    "    text_set = set(doc_text)\n",
    "    assert(len(text_set) > amount)\n",
    "    \n",
    "    random_choice = random.sample(list(text_set), amount)\n",
    "    return random_choice"
   ]
  },
  {
   "cell_type": "code",
   "execution_count": 133,
   "metadata": {},
   "outputs": [],
   "source": [
    "def generate_illusive_docs_sentence(doc_amount: int):\n",
    "    assert(doc_amount <= 1)\n",
    "    dir_name = \"../test-document/sentence\"\n",
    "    os.makedirs(dir_name, exist_ok=True)\n",
    "    for i in range(1, doc_amount + 1):\n",
    "        doc_text = generate_document_text()\n",
    "        random_sentences = get_random_sentence(doc_text, 5)\n",
    "        generate_illusive_document(f\"{dir_name}/TEST{i}\", doc_text, random_sentences)"
   ]
  },
  {
   "cell_type": "code",
   "execution_count": 131,
   "metadata": {},
   "outputs": [],
   "source": [
    "def generate_illusive_docs_word(doc_amount: int):\n",
    "    assert(doc_amount <= 1)\n",
    "    dir_name = \"../test-document/word\"\n",
    "    os.makedirs(dir_name, exist_ok=True)\n",
    "    for i in range(1, doc_amount + 1):\n",
    "        doc_text = generate_document_text()\n",
    "        random_words = get_random_words(doc_text, 20)\n",
    "        generate_illusive_document(f\"{dir_name}/TEST{i}\", doc_text, random_words)"
   ]
  },
  {
   "cell_type": "code",
   "execution_count": 140,
   "metadata": {},
   "outputs": [],
   "source": [
    "def generate_illusive_docs_char(doc_amount: int):\n",
    "    assert(doc_amount <= 1)\n",
    "    dir_name = \"../test-document/char\"\n",
    "    os.makedirs(dir_name, exist_ok=True)\n",
    "    for i in range(1, doc_amount + 1):\n",
    "        doc_text = generate_document_text()\n",
    "        random_chars = get_random_chars(doc_text, 2)\n",
    "        generate_illusive_document(f\"{dir_name}/TEST{i}\", doc_text, random_chars)"
   ]
  },
  {
   "cell_type": "code",
   "execution_count": 174,
   "metadata": {},
   "outputs": [],
   "source": [
    "generate_illusive_docs_sentence(1)\n",
    "generate_illusive_docs_word(1)\n",
    "generate_illusive_docs_word(1)"
   ]
  }
 ],
 "metadata": {
  "kernelspec": {
   "display_name": "Python 3.9.13 ('Skripsheeesh')",
   "language": "python",
   "name": "python3"
  },
  "language_info": {
   "codemirror_mode": {
    "name": "ipython",
    "version": 3
   },
   "file_extension": ".py",
   "mimetype": "text/x-python",
   "name": "python",
   "nbconvert_exporter": "python",
   "pygments_lexer": "ipython3",
   "version": "3.9.13"
  },
  "orig_nbformat": 4,
  "vscode": {
   "interpreter": {
    "hash": "db99fcdcf4d350b0a85f79c11f3a9bfb2e0477ec6fa570ac1c31c25bd440e3bb"
   }
  }
 },
 "nbformat": 4,
 "nbformat_minor": 2
}
