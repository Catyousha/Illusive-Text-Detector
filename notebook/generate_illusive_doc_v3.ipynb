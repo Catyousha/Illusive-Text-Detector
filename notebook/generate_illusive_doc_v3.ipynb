{
 "cells": [
  {
   "cell_type": "markdown",
   "metadata": {},
   "source": [
    "# Init"
   ]
  },
  {
   "cell_type": "code",
   "execution_count": 1,
   "metadata": {},
   "outputs": [],
   "source": [
    "import fitz\n",
    "import lorem\n",
    "import json\n",
    "import random\n",
    "import re\n",
    "import os\n",
    "\n",
    "fitz.TOOLS.set_small_glyph_heights(True)\n",
    "fitz.TOOLS.set_graphics_min_line_width(True)\n",
    "\n",
    "UNUSUAL_CHARS = [\"-\",\"~\",\"*\"]\n",
    "FONT_TYPE = fitz.Font(ordering=0)\n",
    "FONT_SIZE = 12\n",
    "COLOR_BLACK = (0, 0, 0)\n",
    "COLOR_WHITE = (1, 1, 1)\n",
    "TEST_DOCUMENT_DIR = \"../test-document-v3\""
   ]
  },
  {
   "cell_type": "markdown",
   "metadata": {},
   "source": [
    "# Illusivicate PDF"
   ]
  },
  {
   "cell_type": "code",
   "execution_count": 2,
   "metadata": {},
   "outputs": [],
   "source": [
    "from functools import reduce\n",
    "\n",
    "\n",
    "def illusificate_entity(bbox, origin, text, page: fitz.Page, tw: fitz.TextWriter, curr_page: int):\n",
    "    \n",
    "    tw.append(origin, text, fontsize=FONT_SIZE, font=FONT_TYPE)\n",
    "    page.add_redact_annot(bbox)\n",
    "\n",
    "    shape=page.new_shape()\n",
    "    shape.draw_rect(bbox)\n",
    "    shape.finish(color=(1,0,1))\n",
    "    shape.commit()\n",
    "\n",
    "def _get_chars(text_blocks):\n",
    "    lines = [b['lines'] for b in text_blocks]\n",
    "    lines = reduce(lambda a,b: a+b, lines)\n",
    "    spans = [l['spans'] for l in lines]\n",
    "    spans = reduce(lambda a,b: a+b, spans)\n",
    "    chars = [s['chars'] for s in spans]\n",
    "    chars = reduce(lambda a,b: a+b, chars)\n",
    "    return chars\n",
    "\n",
    "def illusificate_doc(doc: fitz.Document):\n",
    "    \"\"\"\n",
    "        res schema:\n",
    "        [\n",
    "            {\n",
    "                \"page\": 0,\n",
    "                \"origin\": (4.2, 4.2),\n",
    "                \"text\": \"~\",\n",
    "                \"label\": \"ILLUSIVE\"\n",
    "            }\n",
    "        ]\n",
    "    \"\"\"\n",
    "    res = []\n",
    "    for curr_page, page in enumerate(doc):\n",
    "        page: fitz.Page = page\n",
    "        tw = fitz.TextWriter(page.rect, color=COLOR_WHITE)\n",
    "        textpage = page.get_textpage()\n",
    "        chars = _get_chars(textpage.extractRAWDICT()[\"blocks\"])\n",
    "        for char in chars:\n",
    "            # print(clip)\n",
    "            bbox = char[\"bbox\"]\n",
    "            origin = char[\"origin\"]\n",
    "            text = char[\"c\"]\n",
    "            label = \"NON-ILLUSIVE\"\n",
    "\n",
    "            if char[\"c\"] in UNUSUAL_CHARS:\n",
    "                illusificate_entity(bbox, origin, text, page, tw, curr_page)\n",
    "                label = \"ILLUSIVE\"\n",
    "\n",
    "            res.append({\n",
    "                \"page\": curr_page,\n",
    "                \"origin\": (origin[0], origin[1]),\n",
    "                \"text\": text,\n",
    "                \"label\": label,\n",
    "            })\n",
    "            \n",
    "        #     clips = page.search_for(char)            \n",
    "        #     for clip in clips:\n",
    "        #         res.append(illusificate_entity(page, clip, tw, curr_page))\n",
    "            \n",
    "        # print(clip)\n",
    "\n",
    "        page.apply_redactions(images=0)\n",
    "        tw.write_text(page)\n",
    "        return res"
   ]
  },
  {
   "cell_type": "code",
   "execution_count": 3,
   "metadata": {},
   "outputs": [],
   "source": [
    "def generate_illusive_document(filename: str, doc_text: str):\n",
    "\n",
    "    doc = fitz.open()\n",
    "    page = doc.new_page()\n",
    "\n",
    "    page_padding = 72\n",
    "    page_rect = page.rect\n",
    "    writer = fitz.TextWriter(page_rect, color=COLOR_BLACK)\n",
    "\n",
    "    fill_rect = fitz.Rect(\n",
    "        page_padding,\n",
    "        page_padding,\n",
    "        page_rect.width - page_padding,\n",
    "        page_rect.height - page_padding,\n",
    "    )\n",
    "\n",
    "    writer.fill_textbox(\n",
    "        fill_rect,\n",
    "        doc_text,\n",
    "        align=fitz.TEXT_ALIGN_LEFT,\n",
    "        warn=True,\n",
    "        fontsize=FONT_SIZE,\n",
    "        font=FONT_TYPE,\n",
    "    )\n",
    "    writer.write_text(page, overlay=0)\n",
    "    \n",
    "    results = illusificate_doc(doc)\n",
    "    \n",
    "    json_object = json.dumps(results, indent=2)\n",
    "    with open(f\"{filename}.json\", \"w\") as outfile:\n",
    "        outfile.write(json_object)\n",
    "\n",
    "    doc.save(f\"{filename}.pdf\")"
   ]
  },
  {
   "cell_type": "markdown",
   "metadata": {},
   "source": [
    "# Random Text Generation"
   ]
  },
  {
   "cell_type": "code",
   "execution_count": 4,
   "metadata": {},
   "outputs": [],
   "source": [
    "def generate_document_text(num_paragraph: int = 4):\n",
    "    doc_text = [lorem.paragraph() for i in range(0, num_paragraph)]\n",
    "    return '\\n\\n'.join(doc_text)"
   ]
  },
  {
   "cell_type": "markdown",
   "metadata": {},
   "source": [
    "# Generate Illusive Document"
   ]
  },
  {
   "cell_type": "code",
   "execution_count": 5,
   "metadata": {},
   "outputs": [],
   "source": [
    "def random_unusual_char(match):\n",
    "    return random.choice(UNUSUAL_CHARS)\n",
    "\n",
    "def generate_illusive_docs(doc_amount: int):\n",
    "    assert(doc_amount >= 1)\n",
    "    os.makedirs(TEST_DOCUMENT_DIR, exist_ok=True)\n",
    "    for i in range(1, doc_amount + 1):\n",
    "        doc_text = generate_document_text()\n",
    "        doc_text = re.sub(r\"[^\\S\\r\\n]\", random_unusual_char, doc_text)\n",
    "        generate_illusive_document(f\"{TEST_DOCUMENT_DIR}/TEST{i}\", doc_text)"
   ]
  },
  {
   "cell_type": "markdown",
   "metadata": {},
   "source": [
    "# Main Process"
   ]
  },
  {
   "cell_type": "code",
   "execution_count": 6,
   "metadata": {},
   "outputs": [],
   "source": [
    "generate_illusive_docs(100)"
   ]
  }
 ],
 "metadata": {
  "kernelspec": {
   "display_name": "Python 3.9.13 ('Skripsheeesh')",
   "language": "python",
   "name": "python3"
  },
  "language_info": {
   "codemirror_mode": {
    "name": "ipython",
    "version": 3
   },
   "file_extension": ".py",
   "mimetype": "text/x-python",
   "name": "python",
   "nbconvert_exporter": "python",
   "pygments_lexer": "ipython3",
   "version": "3.9.13"
  },
  "orig_nbformat": 4,
  "vscode": {
   "interpreter": {
    "hash": "db99fcdcf4d350b0a85f79c11f3a9bfb2e0477ec6fa570ac1c31c25bd440e3bb"
   }
  }
 },
 "nbformat": 4,
 "nbformat_minor": 2
}
