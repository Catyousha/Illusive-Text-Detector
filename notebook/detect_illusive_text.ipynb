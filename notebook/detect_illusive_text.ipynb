{
 "cells": [
  {
   "cell_type": "markdown",
   "metadata": {},
   "source": [
    "# Init"
   ]
  },
  {
   "cell_type": "code",
   "execution_count": 1,
   "metadata": {},
   "outputs": [],
   "source": [
    "import fitz\n",
    "import json\n",
    "import os\n",
    "import re\n",
    "\n",
    "from functools import reduce\n",
    "\n",
    "fitz.TOOLS.set_small_glyph_heights(True)\n",
    "COLOR_WHITE = 16777215\n",
    "TEST_DIR = \"../test-document\"\n",
    "TEST_SECTION_DIR = [\"char\", \"sentence\", \"word\"]"
   ]
  },
  {
   "cell_type": "code",
   "execution_count": 2,
   "metadata": {},
   "outputs": [],
   "source": [
    "def get_spans(text_blocks):\n",
    "    lines = [b['lines'] for b in text_blocks]\n",
    "    lines = reduce(lambda a,b: a+b, lines)\n",
    "    spans = [l['spans'] for l in lines]\n",
    "    spans = reduce(lambda a,b: a+b, spans)\n",
    "    return spans"
   ]
  },
  {
   "cell_type": "code",
   "execution_count": 3,
   "metadata": {},
   "outputs": [],
   "source": [
    "def predict_illusive_text(doc: fitz.Document):\n",
    "    predict = []\n",
    "    for curr_page, page in enumerate(doc):\n",
    "        text_page = page.get_textpage()\n",
    "        page_dict = text_page.extractDICT()\n",
    "        blocks = [b for b in page_dict[\"blocks\"]]\n",
    "        extracted_spans = get_spans(blocks)\n",
    "        \n",
    "        illusive_text = [\n",
    "            {\n",
    "                # \"bbox\": list(s[\"bbox\"]),\n",
    "                \"origin\": list(s[\"origin\"]),\n",
    "                \"text\": s[\"text\"],\n",
    "                \"page\": curr_page,\n",
    "            } for s in extracted_spans if s[\"color\"] == COLOR_WHITE\n",
    "        ]\n",
    "        predict += illusive_text\n",
    "    return predict\n"
   ]
  },
  {
   "cell_type": "code",
   "execution_count": 4,
   "metadata": {},
   "outputs": [],
   "source": [
    "def generate_test_schema():\n",
    "    \"\"\"\n",
    "    [\n",
    "        {\n",
    "            'location': '../test-document/word',\n",
    "            'test_subject': [\n",
    "                {\n",
    "                    'document': 'TEST1.pdf',\n",
    "                    'actual': 'TEST1.json'\n",
    "                }\n",
    "            ]\n",
    "        }\n",
    "    ]\n",
    "    \"\"\"\n",
    "    test_schema = []\n",
    "    for root, dirs, files in os.walk(TEST_DIR):\n",
    "        if(len(files) == 0):\n",
    "            continue\n",
    "        document_files = [f for f in files if f.endswith('.pdf')]\n",
    "        actual_files = [f for f in files if f.endswith('.json')]\n",
    "        assert(len(document_files) == len(actual_files))\n",
    "\n",
    "        test_schema.append({\n",
    "            \"location\": re.sub(\"\\\\\\+\", \"/\", root),\n",
    "            \"test_subject\": [\n",
    "                {\n",
    "                    \"document\": document_files[i],\n",
    "                    \"actual\": actual_files[i]\n",
    "                } for i in range(0, len(document_files))\n",
    "            ]\n",
    "        })\n",
    "    return test_schema\n"
   ]
  },
  {
   "cell_type": "code",
   "execution_count": 5,
   "metadata": {},
   "outputs": [],
   "source": [
    "def dump_predicted(filename, doc, predicted):\n",
    "    json_object = json.dumps(predicted, indent=2)\n",
    "    with open(f\"test_dumps/{filename}.json\", \"w\") as outfile:\n",
    "        outfile.write(json_object)\n",
    "    \n",
    "    for page in doc:\n",
    "        for pr in predicted:\n",
    "            shape=page.new_shape()\n",
    "            shape.draw_rect(pr[\"bbox\"])\n",
    "            shape.finish(color=(1,0,1), fill=(1, 0, 0))\n",
    "            shape.commit()\n",
    "    doc.save(f\"test_dumps/{filename}.pdf\")"
   ]
  },
  {
   "cell_type": "code",
   "execution_count": 6,
   "metadata": {},
   "outputs": [
    {
     "name": "stdout",
     "output_type": "stream",
     "text": [
      "True\n",
      "True\n",
      "True\n"
     ]
    }
   ],
   "source": [
    "test_schema = generate_test_schema()\n",
    "for schema in test_schema:\n",
    "    loc = schema[\"location\"]\n",
    "    for idx, subject in enumerate(schema[\"test_subject\"]):\n",
    "        doc = fitz.open(f\"{loc}\\{subject['document']}\")\n",
    "        actual = json.load(open(f\"{loc}\\{subject['actual']}\"))\n",
    "        predicted = predict_illusive_text(doc)\n",
    "        equal = actual == predicted\n",
    "        print(equal)\n",
    "        if(not(equal)):\n",
    "            dump_predicted(idx, doc, predicted)\n",
    "        "
   ]
  }
 ],
 "metadata": {
  "kernelspec": {
   "display_name": "Python 3.9.13 ('Skripsheeesh')",
   "language": "python",
   "name": "python3"
  },
  "language_info": {
   "codemirror_mode": {
    "name": "ipython",
    "version": 3
   },
   "file_extension": ".py",
   "mimetype": "text/x-python",
   "name": "python",
   "nbconvert_exporter": "python",
   "pygments_lexer": "ipython3",
   "version": "3.9.13"
  },
  "orig_nbformat": 4,
  "vscode": {
   "interpreter": {
    "hash": "db99fcdcf4d350b0a85f79c11f3a9bfb2e0477ec6fa570ac1c31c25bd440e3bb"
   }
  }
 },
 "nbformat": 4,
 "nbformat_minor": 2
}
