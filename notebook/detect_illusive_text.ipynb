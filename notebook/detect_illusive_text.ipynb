{
 "cells": [
  {
   "cell_type": "code",
   "execution_count": 23,
   "metadata": {},
   "outputs": [],
   "source": [
    "import fitz\n",
    "import json\n",
    "\n",
    "fitz.TOOLS.set_small_glyph_heights(True)\n",
    "# TEST_SECTION_DIR = [\"char\", \"sentence\", \"word\"]\n",
    "COLOR_WHITE = 16777215\n",
    "TEST_DIR = \"../test-document/word\""
   ]
  },
  {
   "cell_type": "code",
   "execution_count": 24,
   "metadata": {},
   "outputs": [],
   "source": [
    "from functools import reduce\n",
    "\n",
    "def get_spans(text_blocks):\n",
    "    lines = [b['lines'] for b in text_blocks]\n",
    "    lines = reduce(lambda a,b: a+b, lines)\n",
    "    spans = [l['spans'] for l in lines]\n",
    "    spans = reduce(lambda a,b: a+b, spans)\n",
    "    return spans"
   ]
  },
  {
   "cell_type": "code",
   "execution_count": 25,
   "metadata": {},
   "outputs": [],
   "source": [
    "\n",
    "actual = json.load(open(f\"{TEST_DIR}/TEST1.json\"))"
   ]
  },
  {
   "cell_type": "code",
   "execution_count": 26,
   "metadata": {},
   "outputs": [],
   "source": [
    "doc: fitz.Document = fitz.open(f\"{TEST_DIR}/TEST1.pdf\")\n",
    "predict = []\n",
    "for curr_page, page in enumerate(doc):\n",
    "    text_page = page.get_textpage()\n",
    "    page_dict = text_page.extractDICT()\n",
    "    blocks = [b for b in page_dict[\"blocks\"]]\n",
    "    extracted_spans = get_spans(blocks)\n",
    "    \n",
    "    illusive_text = [\n",
    "        {\n",
    "            \"bbox\": list(s[\"bbox\"]),\n",
    "            \"text\": s[\"text\"],\n",
    "            \"page\": curr_page,\n",
    "        } for s in extracted_spans if s[\"color\"] == COLOR_WHITE\n",
    "    ]\n",
    "    predict += illusive_text\n"
   ]
  },
  {
   "cell_type": "code",
   "execution_count": 27,
   "metadata": {},
   "outputs": [
    {
     "data": {
      "text/plain": [
       "True"
      ]
     },
     "execution_count": 27,
     "metadata": {},
     "output_type": "execute_result"
    }
   ],
   "source": [
    "actual == predict"
   ]
  }
 ],
 "metadata": {
  "kernelspec": {
   "display_name": "Python 3.9.13 ('Skripsheeesh')",
   "language": "python",
   "name": "python3"
  },
  "language_info": {
   "codemirror_mode": {
    "name": "ipython",
    "version": 3
   },
   "file_extension": ".py",
   "mimetype": "text/x-python",
   "name": "python",
   "nbconvert_exporter": "python",
   "pygments_lexer": "ipython3",
   "version": "3.9.13"
  },
  "orig_nbformat": 4,
  "vscode": {
   "interpreter": {
    "hash": "db99fcdcf4d350b0a85f79c11f3a9bfb2e0477ec6fa570ac1c31c25bd440e3bb"
   }
  }
 },
 "nbformat": 4,
 "nbformat_minor": 2
}
