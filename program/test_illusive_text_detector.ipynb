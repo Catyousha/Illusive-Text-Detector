{
 "cells": [
  {
   "cell_type": "code",
   "execution_count": 1,
   "metadata": {},
   "outputs": [],
   "source": [
    "import os\n",
    "TEST_DIR = \"../test-data\""
   ]
  },
  {
   "cell_type": "code",
   "execution_count": 2,
   "metadata": {},
   "outputs": [],
   "source": [
    "def generate_test_schema():\n",
    "    \"\"\"\n",
    "    [\n",
    "        {\n",
    "            'document_file': 'TEST1.pdf',\n",
    "            'json_file': 'TEST1.json'\n",
    "        }\n",
    "    ]\n",
    "    \"\"\"\n",
    "    test_schema = []\n",
    "    for root, dirs, files in os.walk(TEST_DIR):\n",
    "\n",
    "        document_files = [f for f in files if f.endswith('.pdf')]\n",
    "        actual_files = [f for f in files if f.endswith('.json')]\n",
    "        assert(len(document_files) == len(actual_files))\n",
    "\n",
    "        test_schema = [\n",
    "            {\n",
    "                \"document_file\": document_files[i],\n",
    "                \"json_file\": actual_files[i]\n",
    "            } for i in range(0, len(document_files))\n",
    "        ]\n",
    "    return test_schema"
   ]
  },
  {
   "cell_type": "code",
   "execution_count": 3,
   "metadata": {},
   "outputs": [
    {
     "name": "stdout",
     "output_type": "stream",
     "text": [
      "[[1604    0]\n",
      " [   0 2158]] 1.0\n",
      "[[2058    0]\n",
      " [   0 2852]] 1.0\n",
      "[[1714    0]\n",
      " [   0 2262]] 1.0\n",
      "[[2172    0]\n",
      " [   0 2984]] 1.0\n",
      "[[1241    0]\n",
      " [   0 1673]] 1.0\n",
      "[[135   0]\n",
      " [  0 181]] 1.0\n",
      "[[2798    0]\n",
      " [   0 3765]] 1.0\n",
      "[[2323    0]\n",
      " [   0 3104]] 1.0\n",
      "[[ 969    0]\n",
      " [   0 1300]] 1.0\n",
      "[[2044    0]\n",
      " [   0 2752]] 1.0\n"
     ]
    }
   ],
   "source": [
    "import json\n",
    "from charset_normalizer import detect\n",
    "from illusive_text_detector import IllusiveTextDetector\n",
    "import sklearn.metrics as metrics\n",
    "\n",
    "def test_detector():\n",
    "    detector = IllusiveTextDetector()\n",
    "    test_schema = generate_test_schema()\n",
    "\n",
    "    for test in test_schema:\n",
    "        test_pdf_loc = f\"{TEST_DIR}/{test['document_file']}\"\n",
    "        test_json_loc = f\"{TEST_DIR}/{test['json_file']}\"\n",
    "\n",
    "        test_json_file = open(test_json_loc)\n",
    "        actual = json.load(test_json_file)\n",
    "        test_json_file.close()\n",
    "\n",
    "        predicted = detector.detect(test_pdf_loc)\n",
    "        assert(actual[\"total_characters\"] == predicted[\"total_characters\"])\n",
    "\n",
    "        actual_labels = []\n",
    "        pred_labels = []\n",
    "        for i in range(0, actual[\"total_characters\"]):\n",
    "            actual_data = actual[\"chars_data\"][i]\n",
    "            pred_data = predicted[\"chars_data\"][i]\n",
    "            assert(actual_data[\"char\"] == pred_data[\"char\"])\n",
    "            \n",
    "            actual_labels.append(actual_data[\"label\"])\n",
    "            pred_labels.append(pred_data[\"label\"])\n",
    "\n",
    "        m = metrics.confusion_matrix(actual_labels, pred_labels)\n",
    "        acc = metrics.accuracy_score(actual_labels, pred_labels)\n",
    "        print(m, acc)\n",
    "        # doc: fitz.Document = fitz.open(test_pdf_loc)\n",
    "        # print(\"----\")\n",
    "        # print(\"---\")\n",
    "        # for p in predicted[\"characters_info\"]:\n",
    "        #     print(p['char'], end=\"\")\n",
    "        # print(\"\\n***\")\n",
    "        # for a in actual[\"characters_info\"]:\n",
    "        #     print(a['char'], end=\"\")\n",
    "        # print(\"\\n---\")\n",
    "        # print(predicted[\"characters_info\"].__len__(), actual[\"characters_info\"].__len__())\n",
    "        # print(\"----\")\n",
    "\n",
    "test_detector()"
   ]
  }
 ],
 "metadata": {
  "kernelspec": {
   "display_name": "Python 3.9.13 ('Skripsheeesh')",
   "language": "python",
   "name": "python3"
  },
  "language_info": {
   "codemirror_mode": {
    "name": "ipython",
    "version": 3
   },
   "file_extension": ".py",
   "mimetype": "text/x-python",
   "name": "python",
   "nbconvert_exporter": "python",
   "pygments_lexer": "ipython3",
   "version": "3.9.13"
  },
  "orig_nbformat": 4,
  "vscode": {
   "interpreter": {
    "hash": "db99fcdcf4d350b0a85f79c11f3a9bfb2e0477ec6fa570ac1c31c25bd440e3bb"
   }
  }
 },
 "nbformat": 4,
 "nbformat_minor": 2
}
