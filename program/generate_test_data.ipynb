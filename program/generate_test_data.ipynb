{
 "cells": [
  {
   "cell_type": "code",
   "execution_count": 11,
   "metadata": {},
   "outputs": [],
   "source": [
    "import lorem\n",
    "from docx import Document"
   ]
  },
  {
   "cell_type": "code",
   "execution_count": 12,
   "metadata": {},
   "outputs": [],
   "source": [
    "def generate_text(num_paragraph=4):\n",
    "    return [lorem.paragraph() for i in range(0, num_paragraph)]"
   ]
  },
  {
   "cell_type": "code",
   "execution_count": 13,
   "metadata": {},
   "outputs": [],
   "source": [
    "import os\n",
    "from random import randint\n",
    "from docx.shared import RGBColor\n",
    "from docx2pdf import convert\n",
    "\n",
    "MAX_PARAGRAPH_IN_PAGE = 7\n",
    "COLOR_WHITE = RGBColor(0xFF, 0xFF, 0xFF)\n",
    "COLOR_BLACK = RGBColor(0x00, 0x00, 0x00)\n",
    "\n",
    "LABEL_ILLUSIVE = \"ILLUSIVE\"\n",
    "LABEL_NON_ILLUSIVE = \"NON-ILLUSIVE\"\n",
    "\n",
    "def generate_docx():\n",
    "    \"\"\" return followed schema\n",
    "        {\n",
    "            total_illusive: 100,\n",
    "            total_non_illusive: 100,\n",
    "            total_characters: 200\n",
    "            chars_data: [\n",
    "                {\n",
    "                    char: 'a',\n",
    "                    label: 'ILLUSIVE'\n",
    "                },\n",
    "                {\n",
    "                    char: 'b',\n",
    "                    label: 'NON-ILLUSIVE'\n",
    "                },\n",
    "                {\n",
    "                    char: 'c',\n",
    "                    label: 'ILLUSIVE'\n",
    "                },\n",
    "                ...\n",
    "            ]\n",
    "        }\n",
    "    \"\"\"\n",
    "    \n",
    "    num_paragraph = randint(1, 20)\n",
    "    doc_text = generate_text(num_paragraph)\n",
    "    doc_text = [doc_text[i:i + MAX_PARAGRAPH_IN_PAGE] for i in range(0, len(doc_text), MAX_PARAGRAPH_IN_PAGE)]\n",
    "\n",
    "    total_page = len(doc_text)\n",
    "    total_illusive = 0\n",
    "    total_non_illusive = 0\n",
    "\n",
    "    doc = Document()\n",
    "    chars_info = []\n",
    "    for idx, page_text in enumerate(doc_text):\n",
    "        for paragraph_text in page_text:\n",
    "            p = doc.add_paragraph()\n",
    "\n",
    "            for char_text in paragraph_text:\n",
    "                is_illusive = 0 if char_text == \" \" else randint(0, 1)\n",
    "                if is_illusive:\n",
    "                    total_illusive += 1\n",
    "                    color = COLOR_WHITE\n",
    "                    label = LABEL_ILLUSIVE\n",
    "                else:\n",
    "                    total_non_illusive += 1\n",
    "                    color = COLOR_BLACK\n",
    "                    label = LABEL_NON_ILLUSIVE\n",
    "\n",
    "                p.add_run(char_text).font.color.rgb = color\n",
    "                chars_info.append({\n",
    "                    \"char\": char_text,\n",
    "                    \"label\": label\n",
    "                })\n",
    "\n",
    "            # LINEBREAK\n",
    "            chars_info.append({\n",
    "                    \"char\": \" \",\n",
    "                    \"label\": LABEL_NON_ILLUSIVE\n",
    "            })\n",
    "            total_non_illusive += 1\n",
    "\n",
    "            \n",
    "        if(idx != total_page - 1):\n",
    "            doc.add_page_break()\n",
    "            chars_info.append({\n",
    "                \"char\": \" \",\n",
    "                \"label\": LABEL_NON_ILLUSIVE\n",
    "            })\n",
    "            chars_info.append({\n",
    "                \"char\": \" \",\n",
    "                \"label\": LABEL_NON_ILLUSIVE\n",
    "            })\n",
    "            total_non_illusive += 2\n",
    "\n",
    "    res = {\n",
    "        \"total_illusive\": total_illusive,\n",
    "        \"total_non_illusive\": total_non_illusive,\n",
    "        \"total_characters\": total_illusive + total_non_illusive,\n",
    "        \"chars_data\": chars_info\n",
    "    }\n",
    "    \n",
    "    return doc, res"
   ]
  },
  {
   "cell_type": "code",
   "execution_count": 14,
   "metadata": {},
   "outputs": [],
   "source": [
    "import json\n",
    "\n",
    "\n",
    "DOCX_DIR = \"../generated-docx\"\n",
    "TEST_DIR = \"../test-data\"\n",
    "\n",
    "def generate_test_data(amount=1):\n",
    "    os.makedirs(DOCX_DIR, exist_ok=True)\n",
    "    os.makedirs(TEST_DIR, exist_ok=True)\n",
    "\n",
    "    for i in range(1, amount+1):\n",
    "        filename = f\"TEST_{i}\"\n",
    "\n",
    "        docx_loc = f\"{DOCX_DIR}/{filename}.docx\"\n",
    "        json_loc = f\"{TEST_DIR}/{filename}.json\"\n",
    "        pdf_loc = f\"{TEST_DIR}/{filename}.pdf\"\n",
    "        \n",
    "        doc, res = generate_docx()\n",
    "        doc.save(docx_loc)\n",
    "        convert(docx_loc, pdf_loc)\n",
    "\n",
    "        json_object = json.dumps(res, indent=2)\n",
    "        with open(json_loc, \"w\") as outfile:\n",
    "            outfile.write(json_object)\n"
   ]
  },
  {
   "cell_type": "code",
   "execution_count": 15,
   "metadata": {},
   "outputs": [
    {
     "name": "stderr",
     "output_type": "stream",
     "text": [
      "100%|██████████| 1/1 [00:02<00:00,  2.81s/it]\n",
      "100%|██████████| 1/1 [00:02<00:00,  2.99s/it]\n",
      "100%|██████████| 1/1 [00:03<00:00,  3.46s/it]\n",
      "100%|██████████| 1/1 [00:03<00:00,  3.02s/it]\n",
      "100%|██████████| 1/1 [00:02<00:00,  2.34s/it]\n",
      "100%|██████████| 1/1 [00:03<00:00,  3.27s/it]\n",
      "100%|██████████| 1/1 [00:02<00:00,  2.66s/it]\n",
      "100%|██████████| 1/1 [00:02<00:00,  2.91s/it]\n",
      "100%|██████████| 1/1 [00:01<00:00,  1.31s/it]\n",
      "100%|██████████| 1/1 [00:03<00:00,  3.41s/it]\n"
     ]
    }
   ],
   "source": [
    "generate_test_data(10)"
   ]
  }
 ],
 "metadata": {
  "kernelspec": {
   "display_name": "Python 3.9.13 ('Skripsheeesh')",
   "language": "python",
   "name": "python3"
  },
  "language_info": {
   "codemirror_mode": {
    "name": "ipython",
    "version": 3
   },
   "file_extension": ".py",
   "mimetype": "text/x-python",
   "name": "python",
   "nbconvert_exporter": "python",
   "pygments_lexer": "ipython3",
   "version": "3.9.13"
  },
  "orig_nbformat": 4,
  "vscode": {
   "interpreter": {
    "hash": "db99fcdcf4d350b0a85f79c11f3a9bfb2e0477ec6fa570ac1c31c25bd440e3bb"
   }
  }
 },
 "nbformat": 4,
 "nbformat_minor": 2
}
